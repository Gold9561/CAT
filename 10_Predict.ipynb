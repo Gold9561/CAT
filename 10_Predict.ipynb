{
  "cells": [
    {
      "cell_type": "code",
      "execution_count": null,
      "metadata": {
        "id": "b-k4zYecLUjY"
      },
      "outputs": [],
      "source": [
        "data = pd.read_csv('/content/drive/MyDrive/team cat/02.입력 데이터처리 출력 과정/가사처리및분석/처리데이터/data_kor_2000-2499.csv', index_col=0)"
      ]
    },
    {
      "cell_type": "code",
      "execution_count": null,
      "metadata": {
        "id": "RLNA8y8CWobn"
      },
      "outputs": [],
      "source": [
        "data = data.iloc[:27000,]"
      ]
    },
    {
      "cell_type": "code",
      "execution_count": null,
      "metadata": {
        "id": "cTQuYT8yLQbC"
      },
      "outputs": [],
      "source": [
        "data = data[~data['Genre'].str.contains('CCM')]\n",
        "data = data.dropna()"
      ]
    },
    {
      "cell_type": "code",
      "execution_count": null,
      "metadata": {
        "id": "EH5UZ5riAj5Q"
      },
      "outputs": [],
      "source": [
        "# data.drop(data.loc[data['Genre']=='J-POP'].index, inplace=True)"
      ]
    },
    {
      "cell_type": "code",
      "execution_count": null,
      "metadata": {
        "id": "zLbA9_-wA3bf"
      },
      "outputs": [],
      "source": [
        "lyr_result = data['lyr_kor_notBlack']"
      ]
    },
    {
      "cell_type": "code",
      "execution_count": null,
      "metadata": {
        "colab": {
          "base_uri": "https://localhost:8080/"
        },
        "id": "KDLvpKDXDtk4",
        "outputId": "f99fb18b-e868-422e-d648-6bb0fe8858ae"
      },
      "outputs": [
        {
          "name": "stderr",
          "output_type": "stream",
          "text": [
            "100%|██████████| 27000/27000 [00:43<00:00, 623.77it/s]\n"
          ]
        }
      ],
      "source": [
        "tagging_ex=[]\n",
        "for i in tq(lyr_result):\n",
        "  tagging_ex.append(mecab.pos(i))"
      ]
    },
    {
      "cell_type": "code",
      "execution_count": null,
      "metadata": {
        "colab": {
          "base_uri": "https://localhost:8080/"
        },
        "id": "ZKZ60dPrDo6-",
        "outputId": "8737fd3e-261d-48ea-ee37-af7b54ef49f1"
      },
      "outputs": [
        {
          "name": "stderr",
          "output_type": "stream",
          "text": [
            "100%|██████████| 27000/27000 [00:03<00:00, 6969.47it/s]\n"
          ]
        }
      ],
      "source": [
        "stopword=[]\n",
        "for i in tq(tagging_ex):\n",
        "  for word, tag in i:\n",
        "    if tag in 'SL' or tag in 'SF' or tag in 'SP' or tag in 'SY' or tag in 'SE' or tag in 'SS' or tag in 'SE' or tag in 'SO' or tag in 'SW' or tag in 'UN' or tag in 'OH'or tag in 'ON'or tag in 'OL'or tag in 'IC':\n",
        "      stopword.append(word)"
      ]
    },
    {
      "cell_type": "code",
      "execution_count": null,
      "metadata": {
        "id": "VXvay6HGEQZf"
      },
      "outputs": [],
      "source": [
        "stop_set = set(stopword)\n",
        "stopword = list(stop_set)"
      ]
    },
    {
      "cell_type": "code",
      "execution_count": null,
      "metadata": {
        "colab": {
          "base_uri": "https://localhost:8080/"
        },
        "id": "UsiYsvVWAtXg",
        "outputId": "2472538e-21dd-4a6b-e983-d15ba43260b5"
      },
      "outputs": [
        {
          "name": "stderr",
          "output_type": "stream",
          "text": [
            "100%|██████████| 27000/27000 [50:40<00:00,  8.88it/s]\n"
          ]
        }
      ],
      "source": [
        "tagging_result=[]\n",
        "for i in tq(lyr_result):\n",
        "  tagging_result.append([word for word in mecab.morphs(i) if not word in stopword])"
      ]
    },
    {
      "cell_type": "code",
      "execution_count": null,
      "metadata": {
        "id": "PtX2wUGIBXD4"
      },
      "outputs": [],
      "source": [
        "num_list, w2n_dic, n2w_dic = word2num(tagging_result)"
      ]
    },
    {
      "cell_type": "code",
      "execution_count": null,
      "metadata": {
        "id": "HUxn4A-pY8eD"
      },
      "outputs": [],
      "source": [
        "import operator"
      ]
    },
    {
      "cell_type": "code",
      "execution_count": null,
      "metadata": {
        "id": "rv_EywUfPJvB"
      },
      "outputs": [],
      "source": [
        "nul_index = []\n",
        "for i in range(len(num_list)):\n",
        "    if not num_list[i]:\n",
        "        nul_index.append(i)\n",
        "        \n",
        "for i in nul_index:\n",
        "    del num_list[i]\n",
        "    num_list.insert(0,'null')\n",
        "    \n",
        "for i in range(len(num_list)):\n",
        "    if num_list[0]=='null':\n",
        "        num_list.pop(0)\n",
        "\n",
        "for i in range(len(num_list)):\n",
        "    if not num_list[i]:\n",
        "        print(i)"
      ]
    },
    {
      "cell_type": "code",
      "execution_count": null,
      "metadata": {
        "id": "8HnFJxuSacnD"
      },
      "outputs": [],
      "source": [
        "num_list = sequence.pad_sequences(num_list, maxlen=300)"
      ]
    },
    {
      "cell_type": "code",
      "execution_count": null,
      "metadata": {
        "id": "KkarLYUXd2fm"
      },
      "outputs": [],
      "source": [
        "import numpy as np"
      ]
    },
    {
      "cell_type": "code",
      "execution_count": null,
      "metadata": {
        "colab": {
          "base_uri": "https://localhost:8080/"
        },
        "id": "1YqB5BTcSI9v",
        "outputId": "ba9be748-8d03-429b-8cdf-04c616c28d99"
      },
      "outputs": [
        {
          "name": "stderr",
          "output_type": "stream",
          "text": [
            "100%|██████████| 27000/27000 [50:19<00:00,  8.94it/s]\n"
          ]
        }
      ],
      "source": [
        "# emotion1 = []\n",
        "# emotion2 = []\n",
        "# emotion_per = []\n",
        "# emotion_label = {'즐거움':0,'슬픔':1,'불안':2,'사랑':3,'분노':4,'외로움':5}\n",
        "anger=[]\n",
        "unrest = []\n",
        "love = []\n",
        "sad = []\n",
        "lonely = []\n",
        "happy = []\n",
        "\n",
        "for i in tq(num_list):\n",
        "  lyr_emotion = {'happy':0, 'sad':0, 'unrest':0, 'love':0, 'anger':0, 'lonely':0}\n",
        "  for j in load_model.predict(i.reshape(1,300)):\n",
        "    k = 0\n",
        "    for emo in lyr_emotion:\n",
        "      lyr_emotion[emo] += j[k]\n",
        "      k += 1\n",
        "  anger.append(lyr_emotion['anger'])\n",
        "  unrest.append(lyr_emotion['unrest'])\n",
        "  love.append(lyr_emotion['love'])\n",
        "  sad.append(lyr_emotion['sad'])\n",
        "  lonely.append(lyr_emotion['lonely'])\n",
        "  happy.append(lyr_emotion['happy'])\n",
        "\n",
        "  # emo_per = sorted(lyr_emotion.items(), key=operator.itemgetter(1))\n",
        "  # emotion_per.append(emo_per)\n",
        "  # emotion1.append(emo_per[3][0])\n",
        "  # emotion2.append(emo_per[2][0])"
      ]
    },
    {
      "cell_type": "code",
      "execution_count": null,
      "metadata": {
        "colab": {
          "base_uri": "https://localhost:8080/"
        },
        "id": "tD7OPiHsCUgB",
        "outputId": "9abe7ecb-d8f6-48dd-c1a0-48b8cdd356ee"
      },
      "outputs": [
        {
          "data": {
            "text/plain": [
              "1.983312131415005e-06"
            ]
          },
          "execution_count": 52,
          "metadata": {},
          "output_type": "execute_result"
        }
      ],
      "source": [
        "lyr_emotion['anger']"
      ]
    },
    {
      "cell_type": "code",
      "execution_count": null,
      "metadata": {
        "id": "rh0HEGwgIWLR"
      },
      "outputs": [],
      "source": [
        "data_dic_emo = data"
      ]
    },
    {
      "cell_type": "code",
      "execution_count": null,
      "metadata": {
        "id": "5IAqYBukHt-b"
      },
      "outputs": [],
      "source": [
        "# data_dic_emo['emotion1'] = emotion1\n",
        "# data_dic_emo['emotion2'] = emotion2\n",
        "# data_dic_emo['emotion_per'] = emotion_per\n",
        "data_dic_emo['happy_score'] = happy\n",
        "data_dic_emo['sad_score'] = sad\n",
        "data_dic_emo['unrest_score'] = unrest\n",
        "data_dic_emo['love_score'] = love\n",
        "data_dic_emo['anger_score'] = anger\n",
        "data_dic_emo['lonely_score'] = lonely"
      ]
    },
    {
      "cell_type": "code",
      "execution_count": null,
      "metadata": {
        "id": "YF2jQBadK7lC"
      },
      "outputs": [],
      "source": [
        "data_dic_emo"
      ]
    },
    {
      "cell_type": "code",
      "execution_count": null,
      "metadata": {
        "id": "P_YwUIDSdpXu"
      },
      "outputs": [],
      "source": [
        "data_dic_emo.drop(['Album','Release_Date','Genre','lyr_kor','lyr_kor_notBlack'],axis=1, inplace=True)"
      ]
    },
    {
      "cell_type": "code",
      "execution_count": null,
      "metadata": {
        "id": "AoZTOBmZeF5R"
      },
      "outputs": [],
      "source": [
        "data_dic_emo[data_dic_emo['happy_sum']>0.5]"
      ]
    },
    {
      "cell_type": "code",
      "execution_count": null,
      "metadata": {
        "id": "1BzjM7_JygNh"
      },
      "outputs": [],
      "source": [
        "data_dic_emo.to_csv('/content/drive/MyDrive/team cat/02.입력 데이터처리 출력 과정/가사처리및분석/처리데이터/data_emo_2000-2499_1.csv')"
      ]
    },
    {
      "cell_type": "markdown",
      "metadata": {
        "id": "_LqovULwUg_O"
      },
      "source": [
        "# 새 섹션"
      ]
    },
    {
      "cell_type": "code",
      "execution_count": null,
      "metadata": {
        "id": "NWjN0sXDXwmt"
      },
      "outputs": [],
      "source": [
        "from keras.preprocessing.text import Tokenizer\n",
        "from keras_preprocessing.sequence import pad_sequences"
      ]
    },
    {
      "cell_type": "code",
      "execution_count": null,
      "metadata": {
        "id": "_TuO5rLIYo_0"
      },
      "outputs": [],
      "source": [
        "tokenizer = Tokenizer()"
      ]
    },
    {
      "cell_type": "code",
      "execution_count": null,
      "metadata": {
        "id": "Tgbs6ROVUiEP"
      },
      "outputs": [],
      "source": [
        "\n",
        "def sentiment_predict(new_sentence):\n",
        "  new_token=[word for word in mecab.morphs(new_sentence) if not word in stopword]\n",
        "  new_sequences = tokenizer.texts_to_sequences([new_token])\n",
        "  new_pad = pad_sequences(new_sequences, maxlen=300)\n",
        "  score = load_model.predict(new_pad[0].reshape(1,300))\n",
        "  \n",
        "\n"
      ]
    },
    {
      "cell_type": "code",
      "execution_count": null,
      "metadata": {
        "colab": {
          "base_uri": "https://localhost:8080/"
        },
        "id": "pOMLpHVxZndu",
        "outputId": "98c68fca-a0c2-4fa3-d25d-6b93ea5e6a85"
      },
      "outputs": [
        {
          "name": "stderr",
          "output_type": "stream",
          "text": [
            "100%|██████████| 14827/14827 [23:47<00:00, 10.39it/s]\n"
          ]
        }
      ],
      "source": [
        "for i in tq(data['lyr_kor_notBlack']):\n",
        "  data['predict'] = sentiment_predict(i)"
      ]
    },
    {
      "cell_type": "code",
      "execution_count": null,
      "metadata": {
        "colab": {
          "base_uri": "https://localhost:8080/"
        },
        "id": "HmwCcPOuaELM",
        "outputId": "dd0f7257-a436-44cb-d504-72fb5d42c16b"
      },
      "outputs": [
        {
          "data": {
            "text/plain": [
              "0        ангел энергия Снегурочка Дед Мороз ангел энерг...\n",
              "8                                  ？？짹 ？？짹 ？？짹 ？？짹 ？？짹 ？？짹\n",
              "11       너와 내가 함께한 순간들그 모든 게 하나같이 다 선명해아무리 아무리 많은 말 꺼내고...\n",
              "12       휴 요즘 나 고민이 참 많아요말할 곳도 없고 너무 답답해요축 늘어진 어깨 토닥여줬던...\n",
              "13       원하면 어디든 날씨도 그래서 준비했어이 세상의 비상구너와 날 가로막는 그 창문허물고...\n",
              "                               ...                        \n",
              "30671    여자야 오늘밤 유혹하지마또다른 사랑에 상처주지마너의 그 앙큼한 사랑때문에밤마다 술잔...\n",
              "30672    너 없는 세상 나 살수 없어언제부턴가 내 안에 너 있어난 너의 사랑 먹으며 살고 싶...\n",
              "30673    그때여레게스카 러브피플이 한 자리에 모여한 마음 한 사랑으로놀아 보든 것이었다한 사...\n",
              "30675    눈웃음 살랑살랑 내 맘 날려보고눈싸움 하듯 네게 레이절 쏘아봐도전해지지 않는 맘 오...\n",
              "30676    다 같은 색 이야 그게 다 그거야아무 재미 없어 지겨워이유가 뭘까 있나 할까진지한 ...\n",
              "Name: lyr_kor_notBlack, Length: 14827, dtype: object"
            ]
          },
          "execution_count": 113,
          "metadata": {},
          "output_type": "execute_result"
        }
      ],
      "source": [
        "data['lyr_kor_notBlack']"
      ]
    }
  ],
  "metadata": {
    "colab": {
      "collapsed_sections": [
        "_LqovULwUg_O"
      ],
      "name": "10.Predict.ipynb",
      "provenance": []
    },
    "kernelspec": {
      "display_name": "Python 3",
      "name": "python3"
    },
    "language_info": {
      "name": "python"
    }
  },
  "nbformat": 4,
  "nbformat_minor": 0
}